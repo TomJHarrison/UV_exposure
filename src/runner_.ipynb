{
 "cells": [
  {
   "cell_type": "code",
   "execution_count": null,
   "id": "9af5ba64-65a5-432b-a42e-a7cb257a391f",
   "metadata": {},
   "outputs": [],
   "source": [
    "# Change to correct directory in case we aren't already there\n",
    "import os\n",
    "os.chdir('/Users/tomharrison/Documents/Projects/UV_exposure')"
   ]
  },
  {
   "cell_type": "code",
   "execution_count": null,
   "id": "4b34a4cf-dbbc-45fd-ae7a-6860c24f8a82",
   "metadata": {},
   "outputs": [],
   "source": [
    "# import relevant packages\n",
    "import math\n",
    "import pandas as pd\n",
    "import time\n",
    "\n",
    "from geopy.geocoders import Nominatim\n",
    "from utils.UV_exposure import *"
   ]
  },
  {
   "cell_type": "code",
   "execution_count": null,
   "id": "8a64d395-fc6a-4612-ade4-b541a776405b",
   "metadata": {},
   "outputs": [],
   "source": [
    "# Find the coordinates of a specified location\n",
    "geolocator = Nominatim(timeout=10, user_agent=\"PDS\")\n",
    "location = geolocator.geocode('New York')\n",
    "lat, long = location.latitude, location.longitude"
   ]
  },
  {
   "cell_type": "code",
   "execution_count": null,
   "id": "fec79357-9fb9-4d42-ae94-cd64d4008cc7",
   "metadata": {},
   "outputs": [],
   "source": [
    "incident_UV.zenith_angle(lat = lat, long = long)"
   ]
  },
  {
   "cell_type": "code",
   "execution_count": null,
   "id": "5c342ed4-546b-46e5-a093-4f4b2a4f91fd",
   "metadata": {},
   "outputs": [],
   "source": [
    "# Get the current ozone data\n",
    "ozone.get_ozone_data()"
   ]
  },
  {
   "cell_type": "code",
   "execution_count": null,
   "id": "51cdadf8-b42f-4b72-86aa-b4a769c3c1c9",
   "metadata": {},
   "outputs": [],
   "source": [
    "df_ozone = ozone.clean_ozone_data()"
   ]
  },
  {
   "cell_type": "code",
   "execution_count": null,
   "id": "97f0bf0c-27c2-4de7-b3c6-fce75d9951fe",
   "metadata": {},
   "outputs": [],
   "source": [
    "ozone.get_ozone_thickness(df_ozone = df_ozone, lat = lat, long = long)"
   ]
  }
 ],
 "metadata": {
  "kernelspec": {
   "display_name": "Python 3 (ipykernel)",
   "language": "python",
   "name": "python3"
  },
  "language_info": {
   "codemirror_mode": {
    "name": "ipython",
    "version": 3
   },
   "file_extension": ".py",
   "mimetype": "text/x-python",
   "name": "python",
   "nbconvert_exporter": "python",
   "pygments_lexer": "ipython3",
   "version": "3.9.7"
  }
 },
 "nbformat": 4,
 "nbformat_minor": 5
}
