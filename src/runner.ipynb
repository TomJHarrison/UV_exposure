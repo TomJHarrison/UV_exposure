{
 "cells": [
  {
   "cell_type": "code",
   "execution_count": 1,
   "id": "68c3af78-51b5-41d8-950f-e877076aae51",
   "metadata": {},
   "outputs": [],
   "source": [
    "import os\n",
    "os.chdir('/Users/tomharrison/Documents/Projects/UV_exposure')"
   ]
  },
  {
   "cell_type": "code",
   "execution_count": 2,
   "id": "9623df36-52d6-4778-8000-ee688bafe4eb",
   "metadata": {},
   "outputs": [],
   "source": [
    "from geopy.geocoders import Nominatim\n",
    "from utils.UV_exposure import *"
   ]
  },
  {
   "cell_type": "code",
   "execution_count": 9,
   "id": "b9feda06-c03c-48a4-b338-0e2266acf6f3",
   "metadata": {},
   "outputs": [],
   "source": [
    "# Find the coordinates of a specified location\n",
    "geolocator = Nominatim(timeout=10, user_agent=\"PDS\")\n",
    "location = geolocator.geocode('Rio')\n",
    "lat, long = location.latitude, location.longitude"
   ]
  },
  {
   "cell_type": "code",
   "execution_count": 4,
   "id": "6652da0a-4723-432f-b73c-6fd1d22117df",
   "metadata": {},
   "outputs": [
    {
     "name": "stderr",
     "output_type": "stream",
     "text": [
      "/Users/tomharrison/opt/anaconda3/lib/python3.9/site-packages/tzwhere/tzwhere.py:62: VisibleDeprecationWarning: Creating an ndarray from ragged nested sequences (which is a list-or-tuple of lists-or-tuples-or ndarrays with different lengths or shapes) is deprecated. If you meant to do this, you must specify 'dtype=object' when creating the ndarray.\n",
      "  self.timezoneNamesToPolygons[tzname] = WRAP(polys)\n"
     ]
    },
    {
     "data": {
      "text/plain": [
       "16.75489339228272"
      ]
     },
     "execution_count": 4,
     "metadata": {},
     "output_type": "execute_result"
    }
   ],
   "source": [
    "# Find the current elevation angle of the sun for the specified location \n",
    "incident_UV.elevation_angle(lat = lat, long = long)"
   ]
  },
  {
   "cell_type": "code",
   "execution_count": 5,
   "id": "3009ba60-fb47-450d-a701-b9cd6b9bd719",
   "metadata": {},
   "outputs": [],
   "source": [
    "# Get the current ozone data.\n",
    "ozone.get_ozone_data(lat = lat, long = long)"
   ]
  },
  {
   "cell_type": "code",
   "execution_count": null,
   "id": "553d1ea9-c9bf-46eb-abda-301b1a24847e",
   "metadata": {},
   "outputs": [],
   "source": []
  },
  {
   "cell_type": "code",
   "execution_count": null,
   "id": "39e24471-7d56-4947-984a-a7533b777cb5",
   "metadata": {},
   "outputs": [],
   "source": []
  }
 ],
 "metadata": {
  "kernelspec": {
   "display_name": "Python 3 (ipykernel)",
   "language": "python",
   "name": "python3"
  },
  "language_info": {
   "codemirror_mode": {
    "name": "ipython",
    "version": 3
   },
   "file_extension": ".py",
   "mimetype": "text/x-python",
   "name": "python",
   "nbconvert_exporter": "python",
   "pygments_lexer": "ipython3",
   "version": "3.9.7"
  }
 },
 "nbformat": 4,
 "nbformat_minor": 5
}
