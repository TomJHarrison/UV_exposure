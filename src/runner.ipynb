{
 "cells": [
  {
   "cell_type": "code",
   "execution_count": 1,
   "id": "68c3af78-51b5-41d8-950f-e877076aae51",
   "metadata": {},
   "outputs": [],
   "source": [
    "import os\n",
    "os.chdir('/Users/tomharrison/Documents/Projects/UV_exposure')"
   ]
  },
  {
   "cell_type": "code",
   "execution_count": 2,
   "id": "9623df36-52d6-4778-8000-ee688bafe4eb",
   "metadata": {},
   "outputs": [],
   "source": [
    "from geopy.geocoders import Nominatim\n",
    "from utils.UV_exposure import *"
   ]
  },
  {
   "cell_type": "code",
   "execution_count": 3,
   "id": "b9feda06-c03c-48a4-b338-0e2266acf6f3",
   "metadata": {},
   "outputs": [],
   "source": [
    "# Find the coordinates of a specified location\n",
    "geolocator = Nominatim(timeout=10, user_agent=\"PDS\")\n",
    "location = geolocator.geocode('New York')\n",
    "lat, long = location.latitude, location.longitude"
   ]
  },
  {
   "cell_type": "code",
   "execution_count": 4,
   "id": "6652da0a-4723-432f-b73c-6fd1d22117df",
   "metadata": {},
   "outputs": [
    {
     "name": "stderr",
     "output_type": "stream",
     "text": [
      "/Users/tomharrison/opt/anaconda3/lib/python3.9/site-packages/tzwhere/tzwhere.py:62: VisibleDeprecationWarning: Creating an ndarray from ragged nested sequences (which is a list-or-tuple of lists-or-tuples-or ndarrays with different lengths or shapes) is deprecated. If you meant to do this, you must specify 'dtype=object' when creating the ndarray.\n",
      "  self.timezoneNamesToPolygons[tzname] = WRAP(polys)\n"
     ]
    },
    {
     "data": {
      "text/plain": [
       "36.525671186417895"
      ]
     },
     "execution_count": 4,
     "metadata": {},
     "output_type": "execute_result"
    }
   ],
   "source": [
    "# Find the current elevation angle of the sun for the specified location \n",
    "incident_UV.elevation_angle(lat = lat, long = long)"
   ]
  },
  {
   "cell_type": "code",
   "execution_count": 5,
   "id": "3009ba60-fb47-450d-a701-b9cd6b9bd719",
   "metadata": {},
   "outputs": [
    {
     "ename": "NameError",
     "evalue": "name 'np' is not defined",
     "output_type": "error",
     "traceback": [
      "\u001b[0;31m---------------------------------------------------------------------------\u001b[0m",
      "\u001b[0;31mNameError\u001b[0m                                 Traceback (most recent call last)",
      "\u001b[0;32m/var/folders/93/7sv_866d7q90qdsxgzb440yc0000gn/T/ipykernel_42741/3015494988.py\u001b[0m in \u001b[0;36m<module>\u001b[0;34m\u001b[0m\n\u001b[1;32m      1\u001b[0m \u001b[0;31m# Get the current ozone data.\u001b[0m\u001b[0;34m\u001b[0m\u001b[0;34m\u001b[0m\u001b[0m\n\u001b[1;32m      2\u001b[0m \u001b[0mozone\u001b[0m\u001b[0;34m.\u001b[0m\u001b[0mget_ozone_data\u001b[0m\u001b[0;34m(\u001b[0m\u001b[0mend_filepath\u001b[0m \u001b[0;34m=\u001b[0m \u001b[0;34m'./data/ozone_data.txt'\u001b[0m\u001b[0;34m)\u001b[0m\u001b[0;34m\u001b[0m\u001b[0;34m\u001b[0m\u001b[0m\n\u001b[0;32m----> 3\u001b[0;31m \u001b[0mdf_ozone\u001b[0m \u001b[0;34m=\u001b[0m \u001b[0mozone\u001b[0m\u001b[0;34m.\u001b[0m\u001b[0mclean_ozone_data\u001b[0m\u001b[0;34m(\u001b[0m\u001b[0mfilepath\u001b[0m \u001b[0;34m=\u001b[0m \u001b[0;34m'./data/ozone_data.txt'\u001b[0m\u001b[0;34m)\u001b[0m\u001b[0;34m\u001b[0m\u001b[0;34m\u001b[0m\u001b[0m\n\u001b[0m\u001b[1;32m      4\u001b[0m \u001b[0mdf_ozone\u001b[0m\u001b[0;34m\u001b[0m\u001b[0;34m\u001b[0m\u001b[0m\n",
      "\u001b[0;32m~/Documents/Projects/UV_exposure/utils/UV_exposure/ozone.py\u001b[0m in \u001b[0;36mclean_ozone_data\u001b[0;34m(filepath)\u001b[0m\n\u001b[1;32m     56\u001b[0m \u001b[0;34m\u001b[0m\u001b[0m\n\u001b[1;32m     57\u001b[0m     \u001b[0;31m# Create a dataframe containing our latitude and longitude intervals\u001b[0m\u001b[0;34m\u001b[0m\u001b[0;34m\u001b[0m\u001b[0m\n\u001b[0;32m---> 58\u001b[0;31m     df_out = pd.DataFrame({'Latitude': np.repeat(np.linspace(-89.5, 89.5, 180), 360),\n\u001b[0m\u001b[1;32m     59\u001b[0m                            'Longitude': np.linspace(-179.5, 179.5, 360).tolist() * 180})\n\u001b[1;32m     60\u001b[0m \u001b[0;34m\u001b[0m\u001b[0m\n",
      "\u001b[0;31mNameError\u001b[0m: name 'np' is not defined"
     ]
    }
   ],
   "source": [
    "# Get the current ozone data.\n",
    "ozone.get_ozone_data(end_filepath = './data/ozone_data.txt')\n",
    "df_ozone = ozone.clean_ozone_data(filepath = './data/ozone_data.txt')\n",
    "df_ozone"
   ]
  },
  {
   "cell_type": "code",
   "execution_count": null,
   "id": "553d1ea9-c9bf-46eb-abda-301b1a24847e",
   "metadata": {},
   "outputs": [],
   "source": []
  },
  {
   "cell_type": "code",
   "execution_count": null,
   "id": "39e24471-7d56-4947-984a-a7533b777cb5",
   "metadata": {},
   "outputs": [],
   "source": []
  }
 ],
 "metadata": {
  "kernelspec": {
   "display_name": "Python 3 (ipykernel)",
   "language": "python",
   "name": "python3"
  },
  "language_info": {
   "codemirror_mode": {
    "name": "ipython",
    "version": 3
   },
   "file_extension": ".py",
   "mimetype": "text/x-python",
   "name": "python",
   "nbconvert_exporter": "python",
   "pygments_lexer": "ipython3",
   "version": "3.9.7"
  }
 },
 "nbformat": 4,
 "nbformat_minor": 5
}
