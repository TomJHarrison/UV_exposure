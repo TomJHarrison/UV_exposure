{
 "cells": [
  {
   "cell_type": "code",
   "execution_count": null,
   "id": "68c3af78-51b5-41d8-950f-e877076aae51",
   "metadata": {},
   "outputs": [],
   "source": [
    "import os\n",
    "os.chdir('/Users/tomharrison/Documents/Projects/UV_exposure')"
   ]
  },
  {
   "cell_type": "code",
   "execution_count": null,
   "id": "9623df36-52d6-4778-8000-ee688bafe4eb",
   "metadata": {},
   "outputs": [],
   "source": [
    "from geopy.geocoders import Nominatim\n",
    "from utils.UV_exposure import *"
   ]
  },
  {
   "cell_type": "code",
   "execution_count": null,
   "id": "b9feda06-c03c-48a4-b338-0e2266acf6f3",
   "metadata": {},
   "outputs": [],
   "source": [
    "geolocator = Nominatim(timeout=10, user_agent=\"PDS\")\n",
    "location = geolocator.geocode('New York')\n",
    "lat, long = location.latitude, location.longitude"
   ]
  },
  {
   "cell_type": "code",
   "execution_count": null,
   "id": "6652da0a-4723-432f-b73c-6fd1d22117df",
   "metadata": {},
   "outputs": [],
   "source": [
    "incident_UV.elevation_angle(lat = lat, long = long)"
   ]
  },
  {
   "cell_type": "code",
   "execution_count": null,
   "id": "3009ba60-fb47-450d-a701-b9cd6b9bd719",
   "metadata": {},
   "outputs": [],
   "source": [
    "ozone.get_ozone_data(lat = lat, long = long)"
   ]
  }
 ],
 "metadata": {
  "kernelspec": {
   "display_name": "Python 3 (ipykernel)",
   "language": "python",
   "name": "python3"
  },
  "language_info": {
   "codemirror_mode": {
    "name": "ipython",
    "version": 3
   },
   "file_extension": ".py",
   "mimetype": "text/x-python",
   "name": "python",
   "nbconvert_exporter": "python",
   "pygments_lexer": "ipython3",
   "version": "3.9.7"
  }
 },
 "nbformat": 4,
 "nbformat_minor": 5
}
